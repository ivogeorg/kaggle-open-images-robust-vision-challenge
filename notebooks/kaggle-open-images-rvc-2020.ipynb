{
 "cells": [
  {
   "cell_type": "markdown",
   "metadata": {},
   "source": [
    "# Kaggle Open Images Robust Vision Challenge 2020\n",
    "\n",
    "##### References\n",
    "###### 1. Kaggle\n",
    "1. [Object Detection](https://www.kaggle.com/c/open-images-object-detection-rvc-2020) on Kaggle.    \n",
    "2. [Instance Segmentation](https://www.kaggle.com/c/open-images-instance-segmentation-rvc-2020) on Kaggle.  \n",
    "3. Open Images Challenge [home](https://storage.googleapis.com/openimages/web/challenge_overview.html) and [dataset download](https://storage.googleapis.com/openimages/web/download.html).  \n",
    "\n",
    "###### 2. Research, literature, and resources\n",
    "1. [Google DetectorRS](https://arxiv.org/pdf/2006.02334.pdf) paper.  \n",
    "2. [DetectorRS](https://github.com/joe-siyuan-qiao/DetectoRS) Github repo.  \n",
    "3. [mmdetection](https://github.com/open-mmlab/mmdetection) Github repo, on which DetectorRS is based.  \n",
    "4. [Review of DetectorRS](https://medium.com/visionwizard/detectors-state-of-the-art-object-detector-from-google-research-e0b89abdd1fc) on Medium VisionWizard.  "
   ]
  },
  {
   "cell_type": "code",
   "execution_count": null,
   "metadata": {},
   "outputs": [],
   "source": []
  }
 ],
 "metadata": {
  "kernelspec": {
   "display_name": "Python 3",
   "language": "python",
   "name": "python3"
  },
  "language_info": {
   "codemirror_mode": {
    "name": "ipython",
    "version": 3
   },
   "file_extension": ".py",
   "mimetype": "text/x-python",
   "name": "python",
   "nbconvert_exporter": "python",
   "pygments_lexer": "ipython3",
   "version": "3.7.7"
  }
 },
 "nbformat": 4,
 "nbformat_minor": 4
}
